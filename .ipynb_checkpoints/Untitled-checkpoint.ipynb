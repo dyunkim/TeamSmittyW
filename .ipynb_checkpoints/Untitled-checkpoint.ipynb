{
 "cells": [
  {
   "cell_type": "code",
   "execution_count": 1,
   "metadata": {},
   "outputs": [
    {
     "name": "stdout",
     "output_type": "stream",
     "text": [
      "LICENSE.md            \u001b[36m\u001b[40mapp\u001b[m\u001b[m/                  package.json\r\n",
      "\u001b[36m\u001b[40mSongs\u001b[m\u001b[m/                billboard_miner.py    preview_collector.py\r\n",
      "\u001b[36m\u001b[40mSongs-Spotify\u001b[m\u001b[m/        data.csv              \u001b[36m\u001b[40mpublic\u001b[m\u001b[m/\r\n",
      "\u001b[36m\u001b[40mSongs-Stripped\u001b[m\u001b[m/       data2.csv             server.js\r\n",
      "\u001b[36m\u001b[40mTeamSmittyW\u001b[m\u001b[m/          datacollector.py      specogram_creator.py\r\n",
      "Untitled.ipynb        m4a_analyzer.py       spotify_collector.py\r\n",
      "\u001b[36m\u001b[40m__pycache__\u001b[m\u001b[m/          \u001b[36m\u001b[40mnotebook\u001b[m\u001b[m/\r\n"
     ]
    }
   ],
   "source": [
    "ls"
   ]
  },
  {
   "cell_type": "code",
   "execution_count": 2,
   "metadata": {},
   "outputs": [
    {
     "ename": "SyntaxError",
     "evalue": "EOL while scanning string literal (<ipython-input-2-e8b59164e4b2>, line 2)",
     "output_type": "error",
     "traceback": [
      "\u001b[0;36m  File \u001b[0;32m\"<ipython-input-2-e8b59164e4b2>\"\u001b[0;36m, line \u001b[0;32m2\u001b[0m\n\u001b[0;31m    df = pd.read_csv(\"data2\".csv\")\u001b[0m\n\u001b[0m                                  ^\u001b[0m\n\u001b[0;31mSyntaxError\u001b[0m\u001b[0;31m:\u001b[0m EOL while scanning string literal\n"
     ]
    }
   ],
   "source": [
    "import pandas as pd\n",
    "df = pd.read_csv(\"data2.csv\")\n",
    "print(df.dtypes)"
   ]
  },
  {
   "cell_type": "code",
   "execution_count": null,
   "metadata": {
    "collapsed": true
   },
   "outputs": [],
   "source": []
  }
 ],
 "metadata": {
  "kernelspec": {
   "display_name": "Python 3",
   "language": "python",
   "name": "python3"
  },
  "language_info": {
   "codemirror_mode": {
    "name": "ipython",
    "version": 3
   },
   "file_extension": ".py",
   "mimetype": "text/x-python",
   "name": "python",
   "nbconvert_exporter": "python",
   "pygments_lexer": "ipython3",
   "version": "3.6.1"
  }
 },
 "nbformat": 4,
 "nbformat_minor": 2
}
